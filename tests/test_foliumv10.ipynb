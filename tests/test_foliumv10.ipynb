{
  "nbformat": 4,
  "nbformat_minor": 0,
  "metadata": {
    "colab": {
      "provenance": [],
      "authorship_tag": "ABX9TyPe81jW8rzLDLRleavB/KRX",
      "include_colab_link": true
    },
    "kernelspec": {
      "name": "python3",
      "display_name": "Python 3"
    },
    "language_info": {
      "name": "python"
    }
  },
  "cells": [
    {
      "cell_type": "markdown",
      "metadata": {
        "id": "view-in-github",
        "colab_type": "text"
      },
      "source": [
        "<a href=\"https://colab.research.google.com/github/Cesc-Fran/meteo/blob/main/tests/test_foliumv10.ipynb\" target=\"_parent\"><img src=\"https://colab.research.google.com/assets/colab-badge.svg\" alt=\"Open In Colab\"/></a>"
      ]
    },
    {
      "cell_type": "markdown",
      "source": [
        "# Test folium, geopy & nominatim  avec colab\n",
        "\n",
        "revision :\n",
        "- author : Fran\n",
        "- date.  : 27 july 2025\n",
        "- rev    : 10 -"
      ],
      "metadata": {
        "id": "YRYGIiTR9ufY"
      }
    },
    {
      "cell_type": "markdown",
      "source": [
        "## Vérif de l'environnement python"
      ],
      "metadata": {
        "id": "33CRU1Bz-MSp"
      }
    },
    {
      "cell_type": "code",
      "execution_count": 1,
      "metadata": {
        "id": "DEs3K-tlpME_"
      },
      "outputs": [],
      "source": [
        "!pip list > piplist.out\n"
      ]
    },
    {
      "cell_type": "code",
      "source": [
        "!cat piplist.out | grep folium\n",
        "\n"
      ],
      "metadata": {
        "colab": {
          "base_uri": "https://localhost:8080/"
        },
        "id": "PrFAexi9rfg1",
        "outputId": "f8173e44-0377-454f-c260-de8f3df697a1"
      },
      "execution_count": 24,
      "outputs": [
        {
          "output_type": "stream",
          "name": "stdout",
          "text": [
            "folium                                0.20.0\n"
          ]
        }
      ]
    },
    {
      "cell_type": "code",
      "source": [
        "!python --version"
      ],
      "metadata": {
        "colab": {
          "base_uri": "https://localhost:8080/"
        },
        "id": "ZBdRuyKHs_Mv",
        "outputId": "9255929f-784d-4ee4-bf16-d69f104742a4"
      },
      "execution_count": 3,
      "outputs": [
        {
          "output_type": "stream",
          "name": "stdout",
          "text": [
            "Python 3.11.13\n"
          ]
        }
      ]
    },
    {
      "cell_type": "markdown",
      "source": [
        "## trace de cartes avec folium"
      ],
      "metadata": {
        "id": "YC8hVzgfBdeF"
      }
    },
    {
      "cell_type": "code",
      "source": [
        "import folium\n",
        "from geopy.geocoders import Nominatim\n"
      ],
      "metadata": {
        "id": "aZxxNsI9BeAZ"
      },
      "execution_count": 1,
      "outputs": []
    },
    {
      "cell_type": "code",
      "metadata": {
        "colab": {
          "base_uri": "https://localhost:8080/"
        },
        "id": "036967fe",
        "outputId": "c078246d-5e33-48c4-8d35-84ec7bd02670"
      },
      "source": [
        "# recherche des coordonnées géo\n",
        "\n",
        "\n",
        "# Initialize the geocoder\n",
        "geolocator = Nominatim(user_agent=\"my_geocoder\")\n",
        "\n",
        "# Quelles adresses rechercher ?\n",
        "address_list = [\n",
        "    \"Place de la Comédie, Montpellier\",\n",
        "    \"361 Rue du Pré aux Clercs, 34090 Montpellier\",\n",
        "    \"Aéroport de Montpellier\",\n",
        "]\n",
        "\n",
        "# Initialize a list of geo dict\n",
        "geo_list = []\n",
        "\n",
        "# Get the coordinates for the address_list\n",
        "for address in address_list:\n",
        "    location = geolocator.geocode(address)\n",
        "\n",
        "    if location:\n",
        "        print(f\"Coordinates for {address}: {location.latitude}, {location.longitude}\")\n",
        "        geo_list.append(location.raw)\n",
        "    else:\n",
        "        print(f\"Could not find coordinates for {address}\")\n"
      ],
      "execution_count": 2,
      "outputs": [
        {
          "output_type": "stream",
          "name": "stdout",
          "text": [
            "Coordinates for Place de la Comédie, Montpellier: 43.6086924, 3.8799233\n"
          ]
        },
        {
          "output_type": "stream",
          "name": "stderr",
          "text": [
            "WARNING:urllib3.connectionpool:Retrying (Retry(total=1, connect=None, read=None, redirect=None, status=None)) after connection broken by 'ReadTimeoutError(\"HTTPSConnectionPool(host='nominatim.openstreetmap.org', port=443): Read timed out. (read timeout=1)\")': /search?q=361+Rue+du+Pr%C3%A9+aux+Clercs%2C+34090+Montpellier&format=json&limit=1\n",
            "WARNING:urllib3.connectionpool:Retrying (Retry(total=0, connect=None, read=None, redirect=None, status=None)) after connection broken by 'ReadTimeoutError(\"HTTPSConnectionPool(host='nominatim.openstreetmap.org', port=443): Read timed out. (read timeout=1)\")': /search?q=361+Rue+du+Pr%C3%A9+aux+Clercs%2C+34090+Montpellier&format=json&limit=1\n"
          ]
        },
        {
          "output_type": "stream",
          "name": "stdout",
          "text": [
            "Coordinates for 361 Rue du Pré aux Clercs, 34090 Montpellier: 43.6251873, 3.8747065\n",
            "Coordinates for Aéroport de Montpellier: 43.5789823, 3.9583008\n"
          ]
        }
      ]
    },
    {
      "cell_type": "code",
      "source": [
        "geo_list"
      ],
      "metadata": {
        "colab": {
          "base_uri": "https://localhost:8080/"
        },
        "id": "azxvmz3ialjX",
        "outputId": "aaa8c572-fcda-4e33-8f73-4612adb43b69"
      },
      "execution_count": 3,
      "outputs": [
        {
          "output_type": "execute_result",
          "data": {
            "text/plain": [
              "[{'place_id': 76699308,\n",
              "  'licence': 'Data © OpenStreetMap contributors, ODbL 1.0. http://osm.org/copyright',\n",
              "  'osm_type': 'way',\n",
              "  'osm_id': 80524864,\n",
              "  'lat': '43.6086924',\n",
              "  'lon': '3.8799233',\n",
              "  'class': 'highway',\n",
              "  'type': 'pedestrian',\n",
              "  'place_rank': 26,\n",
              "  'importance': 0.053407454795147594,\n",
              "  'addresstype': 'road',\n",
              "  'name': 'Place de la Comédie',\n",
              "  'display_name': 'Place de la Comédie, Comédie, Centre, Montpellier, Hérault, Occitanie, France métropolitaine, 34062, France',\n",
              "  'boundingbox': ['43.6078239', '43.6095845', '3.8787352', '3.8813753']},\n",
              " {'place_id': 76791781,\n",
              "  'licence': 'Data © OpenStreetMap contributors, ODbL 1.0. http://osm.org/copyright',\n",
              "  'osm_type': 'node',\n",
              "  'osm_id': 6421812494,\n",
              "  'lat': '43.6251873',\n",
              "  'lon': '3.8747065',\n",
              "  'class': 'place',\n",
              "  'type': 'house',\n",
              "  'place_rank': 30,\n",
              "  'importance': 7.41214618142522e-05,\n",
              "  'addresstype': 'place',\n",
              "  'name': '',\n",
              "  'display_name': '361, Rue du Pré aux Clercs, Boutonnet, Centre, Montpellier, Hérault, Occitanie, France métropolitaine, 34092, France',\n",
              "  'boundingbox': ['43.6251373', '43.6252373', '3.8746565', '3.8747565']},\n",
              " {'place_id': 77482612,\n",
              "  'licence': 'Data © OpenStreetMap contributors, ODbL 1.0. http://osm.org/copyright',\n",
              "  'osm_type': 'node',\n",
              "  'osm_id': 3231762666,\n",
              "  'lat': '43.5789823',\n",
              "  'lon': '3.9583008',\n",
              "  'class': 'highway',\n",
              "  'type': 'bus_stop',\n",
              "  'place_rank': 30,\n",
              "  'importance': 6.171435111004833e-05,\n",
              "  'addresstype': 'highway',\n",
              "  'name': 'Aéroport de Montpellier',\n",
              "  'display_name': 'Aéroport de Montpellier, Rue Élise Deroche, Mauguio, Montpellier, Hérault, Occitanie, France métropolitaine, 34130, France',\n",
              "  'boundingbox': ['43.5789323', '43.5790323', '3.9582508', '3.9583508']}]"
            ]
          },
          "metadata": {},
          "execution_count": 3
        }
      ]
    },
    {
      "cell_type": "code",
      "source": [
        "# Create a Folium map centered around a given point : center_map\n",
        "center_map = geo_list[0]['lat'], geo_list[0]['lon']\n",
        "m = folium.Map(location=center_map, zoom_start=12, tiles=\"cartodb positron\")\n",
        "\n",
        "\n",
        "# Add a marker for each location in geo_list\n",
        "for geo in geo_list:\n",
        "    folium.Marker(\n",
        "        location=(geo['lat'], geo['lon']),\n",
        "        popup=geo['display_name'],\n",
        "        icon=folium.Icon(color=\"red\", icon=\"info-sign\")\n",
        "    ).add_to(m)\n",
        "\n",
        "\n",
        "# Display the map\n",
        "m"
      ],
      "metadata": {
        "colab": {
          "base_uri": "https://localhost:8080/",
          "height": 760
        },
        "id": "1-66vS6JDC51",
        "outputId": "66c00b08-58be-483e-8f0b-d1cb118676df"
      },
      "execution_count": 4,
      "outputs": [
        {
          "output_type": "execute_result",
          "data": {
            "text/plain": [
              "<folium.folium.Map at 0x7bf83cbbe210>"
            ],
            "text/html": [
              "<div style=\"width:100%;\"><div style=\"position:relative;width:100%;height:0;padding-bottom:60%;\"><span style=\"color:#565656\">Make this Notebook Trusted to load map: File -> Trust Notebook</span><iframe srcdoc=\"&lt;!DOCTYPE html&gt;\n",
              "&lt;html&gt;\n",
              "&lt;head&gt;\n",
              "    \n",
              "    &lt;meta http-equiv=&quot;content-type&quot; content=&quot;text/html; charset=UTF-8&quot; /&gt;\n",
              "    &lt;script src=&quot;https://cdn.jsdelivr.net/npm/leaflet@1.9.3/dist/leaflet.js&quot;&gt;&lt;/script&gt;\n",
              "    &lt;script src=&quot;https://code.jquery.com/jquery-3.7.1.min.js&quot;&gt;&lt;/script&gt;\n",
              "    &lt;script src=&quot;https://cdn.jsdelivr.net/npm/bootstrap@5.2.2/dist/js/bootstrap.bundle.min.js&quot;&gt;&lt;/script&gt;\n",
              "    &lt;script src=&quot;https://cdnjs.cloudflare.com/ajax/libs/Leaflet.awesome-markers/2.0.2/leaflet.awesome-markers.js&quot;&gt;&lt;/script&gt;\n",
              "    &lt;link rel=&quot;stylesheet&quot; href=&quot;https://cdn.jsdelivr.net/npm/leaflet@1.9.3/dist/leaflet.css&quot;/&gt;\n",
              "    &lt;link rel=&quot;stylesheet&quot; href=&quot;https://cdn.jsdelivr.net/npm/bootstrap@5.2.2/dist/css/bootstrap.min.css&quot;/&gt;\n",
              "    &lt;link rel=&quot;stylesheet&quot; href=&quot;https://netdna.bootstrapcdn.com/bootstrap/3.0.0/css/bootstrap-glyphicons.css&quot;/&gt;\n",
              "    &lt;link rel=&quot;stylesheet&quot; href=&quot;https://cdn.jsdelivr.net/npm/@fortawesome/fontawesome-free@6.2.0/css/all.min.css&quot;/&gt;\n",
              "    &lt;link rel=&quot;stylesheet&quot; href=&quot;https://cdnjs.cloudflare.com/ajax/libs/Leaflet.awesome-markers/2.0.2/leaflet.awesome-markers.css&quot;/&gt;\n",
              "    &lt;link rel=&quot;stylesheet&quot; href=&quot;https://cdn.jsdelivr.net/gh/python-visualization/folium/folium/templates/leaflet.awesome.rotate.min.css&quot;/&gt;\n",
              "    \n",
              "            &lt;meta name=&quot;viewport&quot; content=&quot;width=device-width,\n",
              "                initial-scale=1.0, maximum-scale=1.0, user-scalable=no&quot; /&gt;\n",
              "            &lt;style&gt;\n",
              "                #map_d350ac61b0412394a6affd0b264652e2 {\n",
              "                    position: relative;\n",
              "                    width: 100.0%;\n",
              "                    height: 100.0%;\n",
              "                    left: 0.0%;\n",
              "                    top: 0.0%;\n",
              "                }\n",
              "                .leaflet-container { font-size: 1rem; }\n",
              "            &lt;/style&gt;\n",
              "\n",
              "            &lt;style&gt;html, body {\n",
              "                width: 100%;\n",
              "                height: 100%;\n",
              "                margin: 0;\n",
              "                padding: 0;\n",
              "            }\n",
              "            &lt;/style&gt;\n",
              "\n",
              "            &lt;style&gt;#map {\n",
              "                position:absolute;\n",
              "                top:0;\n",
              "                bottom:0;\n",
              "                right:0;\n",
              "                left:0;\n",
              "                }\n",
              "            &lt;/style&gt;\n",
              "\n",
              "            &lt;script&gt;\n",
              "                L_NO_TOUCH = false;\n",
              "                L_DISABLE_3D = false;\n",
              "            &lt;/script&gt;\n",
              "\n",
              "        \n",
              "&lt;/head&gt;\n",
              "&lt;body&gt;\n",
              "    \n",
              "    \n",
              "            &lt;div class=&quot;folium-map&quot; id=&quot;map_d350ac61b0412394a6affd0b264652e2&quot; &gt;&lt;/div&gt;\n",
              "        \n",
              "&lt;/body&gt;\n",
              "&lt;script&gt;\n",
              "    \n",
              "    \n",
              "            var map_d350ac61b0412394a6affd0b264652e2 = L.map(\n",
              "                &quot;map_d350ac61b0412394a6affd0b264652e2&quot;,\n",
              "                {\n",
              "                    center: [43.6086924, 3.8799233],\n",
              "                    crs: L.CRS.EPSG3857,\n",
              "                    ...{\n",
              "  &quot;zoom&quot;: 12,\n",
              "  &quot;zoomControl&quot;: true,\n",
              "  &quot;preferCanvas&quot;: false,\n",
              "}\n",
              "\n",
              "                }\n",
              "            );\n",
              "\n",
              "            \n",
              "\n",
              "        \n",
              "    \n",
              "            var tile_layer_d15fc179ea9b1b95c2b4b4f9341767f2 = L.tileLayer(\n",
              "                &quot;https://{s}.basemaps.cartocdn.com/light_all/{z}/{x}/{y}{r}.png&quot;,\n",
              "                {\n",
              "  &quot;minZoom&quot;: 0,\n",
              "  &quot;maxZoom&quot;: 20,\n",
              "  &quot;maxNativeZoom&quot;: 20,\n",
              "  &quot;noWrap&quot;: false,\n",
              "  &quot;attribution&quot;: &quot;\\u0026copy; \\u003ca href=\\&quot;https://www.openstreetmap.org/copyright\\&quot;\\u003eOpenStreetMap\\u003c/a\\u003e contributors \\u0026copy; \\u003ca href=\\&quot;https://carto.com/attributions\\&quot;\\u003eCARTO\\u003c/a\\u003e&quot;,\n",
              "  &quot;subdomains&quot;: &quot;abcd&quot;,\n",
              "  &quot;detectRetina&quot;: false,\n",
              "  &quot;tms&quot;: false,\n",
              "  &quot;opacity&quot;: 1,\n",
              "}\n",
              "\n",
              "            );\n",
              "        \n",
              "    \n",
              "            tile_layer_d15fc179ea9b1b95c2b4b4f9341767f2.addTo(map_d350ac61b0412394a6affd0b264652e2);\n",
              "        \n",
              "    \n",
              "            var marker_bb3abfec4237877b09f8387a54fc4997 = L.marker(\n",
              "                [43.6086924, 3.8799233],\n",
              "                {\n",
              "}\n",
              "            ).addTo(map_d350ac61b0412394a6affd0b264652e2);\n",
              "        \n",
              "    \n",
              "            var icon_36593f4c0ad1c3c42383f67b121ed32d = L.AwesomeMarkers.icon(\n",
              "                {\n",
              "  &quot;markerColor&quot;: &quot;red&quot;,\n",
              "  &quot;iconColor&quot;: &quot;white&quot;,\n",
              "  &quot;icon&quot;: &quot;info-sign&quot;,\n",
              "  &quot;prefix&quot;: &quot;glyphicon&quot;,\n",
              "  &quot;extraClasses&quot;: &quot;fa-rotate-0&quot;,\n",
              "}\n",
              "            );\n",
              "        \n",
              "    \n",
              "        var popup_8da9a8a59fcb7cffcb7be517edec922b = L.popup({\n",
              "  &quot;maxWidth&quot;: &quot;100%&quot;,\n",
              "});\n",
              "\n",
              "        \n",
              "            \n",
              "                var html_91250ad6d3766f9f88f744f4c88e982b = $(`&lt;div id=&quot;html_91250ad6d3766f9f88f744f4c88e982b&quot; style=&quot;width: 100.0%; height: 100.0%;&quot;&gt;Place de la Comédie, Comédie, Centre, Montpellier, Hérault, Occitanie, France métropolitaine, 34062, France&lt;/div&gt;`)[0];\n",
              "                popup_8da9a8a59fcb7cffcb7be517edec922b.setContent(html_91250ad6d3766f9f88f744f4c88e982b);\n",
              "            \n",
              "        \n",
              "\n",
              "        marker_bb3abfec4237877b09f8387a54fc4997.bindPopup(popup_8da9a8a59fcb7cffcb7be517edec922b)\n",
              "        ;\n",
              "\n",
              "        \n",
              "    \n",
              "    \n",
              "                marker_bb3abfec4237877b09f8387a54fc4997.setIcon(icon_36593f4c0ad1c3c42383f67b121ed32d);\n",
              "            \n",
              "    \n",
              "            var marker_18eb2c6b364c17795df0881bcd2b530a = L.marker(\n",
              "                [43.6251873, 3.8747065],\n",
              "                {\n",
              "}\n",
              "            ).addTo(map_d350ac61b0412394a6affd0b264652e2);\n",
              "        \n",
              "    \n",
              "            var icon_f32188acf7e63712188dafe278ee5968 = L.AwesomeMarkers.icon(\n",
              "                {\n",
              "  &quot;markerColor&quot;: &quot;red&quot;,\n",
              "  &quot;iconColor&quot;: &quot;white&quot;,\n",
              "  &quot;icon&quot;: &quot;info-sign&quot;,\n",
              "  &quot;prefix&quot;: &quot;glyphicon&quot;,\n",
              "  &quot;extraClasses&quot;: &quot;fa-rotate-0&quot;,\n",
              "}\n",
              "            );\n",
              "        \n",
              "    \n",
              "        var popup_1a30410a21d67d84c35d2818eacf654a = L.popup({\n",
              "  &quot;maxWidth&quot;: &quot;100%&quot;,\n",
              "});\n",
              "\n",
              "        \n",
              "            \n",
              "                var html_06804e7f3a4767a6e45d17819b8d431a = $(`&lt;div id=&quot;html_06804e7f3a4767a6e45d17819b8d431a&quot; style=&quot;width: 100.0%; height: 100.0%;&quot;&gt;361, Rue du Pré aux Clercs, Boutonnet, Centre, Montpellier, Hérault, Occitanie, France métropolitaine, 34092, France&lt;/div&gt;`)[0];\n",
              "                popup_1a30410a21d67d84c35d2818eacf654a.setContent(html_06804e7f3a4767a6e45d17819b8d431a);\n",
              "            \n",
              "        \n",
              "\n",
              "        marker_18eb2c6b364c17795df0881bcd2b530a.bindPopup(popup_1a30410a21d67d84c35d2818eacf654a)\n",
              "        ;\n",
              "\n",
              "        \n",
              "    \n",
              "    \n",
              "                marker_18eb2c6b364c17795df0881bcd2b530a.setIcon(icon_f32188acf7e63712188dafe278ee5968);\n",
              "            \n",
              "    \n",
              "            var marker_1ddebb3b1fa2ba0405d7f84bf7d65971 = L.marker(\n",
              "                [43.5789823, 3.9583008],\n",
              "                {\n",
              "}\n",
              "            ).addTo(map_d350ac61b0412394a6affd0b264652e2);\n",
              "        \n",
              "    \n",
              "            var icon_7c8cae0c8e669f48604f5aa359ab223c = L.AwesomeMarkers.icon(\n",
              "                {\n",
              "  &quot;markerColor&quot;: &quot;red&quot;,\n",
              "  &quot;iconColor&quot;: &quot;white&quot;,\n",
              "  &quot;icon&quot;: &quot;info-sign&quot;,\n",
              "  &quot;prefix&quot;: &quot;glyphicon&quot;,\n",
              "  &quot;extraClasses&quot;: &quot;fa-rotate-0&quot;,\n",
              "}\n",
              "            );\n",
              "        \n",
              "    \n",
              "        var popup_750324dca5cc3b39405f0590287f4d90 = L.popup({\n",
              "  &quot;maxWidth&quot;: &quot;100%&quot;,\n",
              "});\n",
              "\n",
              "        \n",
              "            \n",
              "                var html_745b866495df20f05569b22d137fbe83 = $(`&lt;div id=&quot;html_745b866495df20f05569b22d137fbe83&quot; style=&quot;width: 100.0%; height: 100.0%;&quot;&gt;Aéroport de Montpellier, Rue Élise Deroche, Mauguio, Montpellier, Hérault, Occitanie, France métropolitaine, 34130, France&lt;/div&gt;`)[0];\n",
              "                popup_750324dca5cc3b39405f0590287f4d90.setContent(html_745b866495df20f05569b22d137fbe83);\n",
              "            \n",
              "        \n",
              "\n",
              "        marker_1ddebb3b1fa2ba0405d7f84bf7d65971.bindPopup(popup_750324dca5cc3b39405f0590287f4d90)\n",
              "        ;\n",
              "\n",
              "        \n",
              "    \n",
              "    \n",
              "                marker_1ddebb3b1fa2ba0405d7f84bf7d65971.setIcon(icon_7c8cae0c8e669f48604f5aa359ab223c);\n",
              "            \n",
              "&lt;/script&gt;\n",
              "&lt;/html&gt;\" style=\"position:absolute;width:100%;height:100%;left:0;top:0;border:none !important;\" allowfullscreen webkitallowfullscreen mozallowfullscreen></iframe></div></div>"
            ]
          },
          "metadata": {},
          "execution_count": 4
        }
      ]
    },
    {
      "cell_type": "code",
      "source": [],
      "metadata": {
        "id": "oqOBCE-5mBJg"
      },
      "execution_count": null,
      "outputs": []
    }
  ]
}